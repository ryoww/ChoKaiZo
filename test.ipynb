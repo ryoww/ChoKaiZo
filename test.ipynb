{
 "cells": [
  {
   "cell_type": "code",
   "execution_count": 2,
   "metadata": {},
   "outputs": [],
   "source": [
    "import customtkinter as ctk\n",
    "from tkinter import filedialog\n",
    "\n",
    "# 外観モードとテーマの設定（任意）\n",
    "ctk.set_appearance_mode(\"light\")    # \"light\"または\"dark\"\n",
    "ctk.set_default_color_theme(\"blue\")   # カラーテーマ\n",
    "\n",
    "# メインウィンドウの作成\n",
    "app = ctk.CTk()\n",
    "app.geometry(\"400x200\")\n",
    "app.title(\"ディレクトリ選択のデモ\")\n",
    "\n",
    "def select_directory():\n",
    "    # ディレクトリ選択ダイアログを表示\n",
    "    directory_path = filedialog.askdirectory(title=\"ディレクトリを選択してください\")\n",
    "    if directory_path:\n",
    "        # 選択されたパスをラベルに表示\n",
    "        label.configure(text=f\"選択されたディレクトリ:\\n{directory_path}\")\n",
    "    else:\n",
    "        label.configure(text=\"ディレクトリが選択されませんでした\")\n",
    "\n",
    "# ボタンウィジェット：クリックでディレクトリ選択ダイアログを表示\n",
    "select_button = ctk.CTkButton(app, text=\"ディレクトリを選択\", command=select_directory)\n",
    "select_button.pack(pady=20)\n",
    "\n",
    "# 選択結果を表示するラベル\n",
    "label = ctk.CTkLabel(app, text=\"まだディレクトリが選択されていません\")\n",
    "label.pack(pady=20)\n",
    "\n",
    "# メインループ開始\n",
    "app.mainloop()\n"
   ]
  },
  {
   "cell_type": "code",
   "execution_count": null,
   "metadata": {},
   "outputs": [],
   "source": [
    "%.\\realesrgan-ncnn-vulkan.exe -i .\\assets\\input.jpg -o .\\assets\\output.jpg -n realesrgan-x4plus"
   ]
  }
 ],
 "metadata": {
  "kernelspec": {
   "display_name": "ChoKaiZo-0j5vMKI8",
   "language": "python",
   "name": "python3"
  },
  "language_info": {
   "codemirror_mode": {
    "name": "ipython",
    "version": 3
   },
   "file_extension": ".py",
   "mimetype": "text/x-python",
   "name": "python",
   "nbconvert_exporter": "python",
   "pygments_lexer": "ipython3",
   "version": "3.11.0"
  }
 },
 "nbformat": 4,
 "nbformat_minor": 2
}
